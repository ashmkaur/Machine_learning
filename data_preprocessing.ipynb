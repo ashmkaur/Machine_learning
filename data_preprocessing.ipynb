{
 "cells": [
  {
   "cell_type": "code",
   "execution_count": 1,
   "metadata": {},
   "outputs": [
    {
     "data": {
      "text/plain": [
       "array([[-0.37796447,  2.64575131, -0.77459667, -0.77459667],\n",
       "       [-0.37796447, -0.37796447,  1.29099445, -0.77459667],\n",
       "       [-0.37796447, -0.37796447, -0.77459667,  1.29099445],\n",
       "       [-0.37796447, -0.37796447,  1.29099445, -0.77459667],\n",
       "       [-0.37796447, -0.37796447, -0.77459667,  1.29099445],\n",
       "       [ 2.64575131, -0.37796447, -0.77459667, -0.77459667],\n",
       "       [-0.37796447, -0.37796447,  1.29099445, -0.77459667],\n",
       "       [-0.37796447, -0.37796447, -0.77459667,  1.29099445]])"
      ]
     },
     "execution_count": 1,
     "metadata": {},
     "output_type": "execute_result"
    }
   ],
   "source": [
    "import numpy as py\n",
    "import matplotlib.pyplot as plt\n",
    "import pandas as pd\n",
    "\n",
    "dataset= pd.read_csv('Book1.csv')\n",
    "dataset.head()\n",
    "X=dataset.iloc[:,:-1].values\n",
    "Y=dataset.iloc[:,2].values\n",
    "X\n",
    "\n",
    "#most frequently used numbers lets say average or median \n",
    "\n",
    "#for nan (we'll use scikit-learn)\n",
    "\n",
    "from sklearn.impute import SimpleImputer\n",
    "\n",
    "imputer = SimpleImputer(missing_values=py.nan, strategy='mean')\n",
    "imputer = imputer.fit(X[:,1:2])\n",
    "X[:,1:2] = imputer.transform(X[:,1:2])\n",
    "# We can use median, most_frequent\n",
    "X\n",
    "\n",
    "# we can convert cities to numeric thing so that my calculations become easy as in Karchi-0 Islamabad-1 .....\n",
    "\n",
    "from sklearn.preprocessing import LabelEncoder,OneHotEncoder\n",
    "labelencoder_X= LabelEncoder()\n",
    "labelencoder_X= LabelEncoder()\n",
    "X[:,0]=labelencoder_X.fit_transform(X[:,0])\n",
    "onehotencoder=OneHotEncoder(categories=[['Karachi','Islamabad','Afganistan','Lahore']])\n",
    "onehotencoder = OneHotEncoder()\n",
    "X=onehotencoder.fit_transform(X[:, 0].reshape(-1, 1)).toarray()\n",
    "X\n",
    "# X[:, 0] = labelencoder_X.fit_transform(X[:, 0])\n",
    "# onehotencoder = OneHotEncoder(categories=[['Karachi', 'Islamabad', 'Afganistan', 'Lahore']])\n",
    "# onehotencoder = OneHotEncoder()\n",
    "# X_onehot = onehotencoder.fit_transform(X[:, 0].reshape(-1, 1)).toarray()\n",
    "# X_onehot\n",
    "\n",
    "from sklearn.model_selection import train_test_split\n",
    "X_train,X_test,y_train,y_test= train_test_split(X,Y,test_size=0.2,random_state=0)\n",
    "\n",
    "#0.2--> 20% for testing and 80% for training\n",
    "\n",
    "y_test\n",
    "\n",
    "#Standard and fir the data for better prediction\n",
    "from sklearn.preprocessing import StandardScaler\n",
    "sc_X=StandardScaler()\n",
    "X_test= sc_X.fit_transform(X_test)\n",
    "X_train= sc_X.fit_transform(X_train)\n",
    "\n",
    "X_train\n",
    "\n"
   ]
  }
 ],
 "metadata": {
  "kernelspec": {
   "display_name": "Python 3",
   "language": "python",
   "name": "python3"
  },
  "language_info": {
   "codemirror_mode": {
    "name": "ipython",
    "version": 3
   },
   "file_extension": ".py",
   "mimetype": "text/x-python",
   "name": "python",
   "nbconvert_exporter": "python",
   "pygments_lexer": "ipython3",
   "version": "3.12.2"
  }
 },
 "nbformat": 4,
 "nbformat_minor": 2
}
